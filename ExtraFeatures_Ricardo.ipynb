{
 "cells": [
  {
   "cell_type": "code",
   "execution_count": 1,
   "id": "6d4709c0",
   "metadata": {},
   "outputs": [],
   "source": [
    "import numpy as np\n",
    "import pandas as pd\n",
    "from sys import executable, argv\n",
    "from subprocess import check_output\n",
    "# import pctils as pc\n",
    "\n",
    "import numpy as np\n",
    "import pandas as pd\n",
    "from sys import executable, argv\n",
    "from subprocess import check_output\n",
    "# import pctils as pc\n",
    "# SKLearn related imports\n",
    "import sklearn\n",
    "from sklearn.feature_extraction.text import CountVectorizer\n",
    "from sklearn.feature_extraction.text import TfidfVectorizer\n",
    "from sklearn.feature_extraction.text import TfidfTransformer\n",
    "from sklearn.pipeline import Pipeline\n",
    "from sklearn.base import TransformerMixin\n",
    "from sklearn import preprocessing\n",
    "from sklearn.feature_selection import SelectKBest, chi2\n",
    "from sklearn.model_selection import train_test_split\n",
    "from sklearn.metrics import classification_report\n",
    "from sklearn.metrics import accuracy_score\n",
    "from sklearn.naive_bayes import MultinomialNB\n",
    "from sklearn.svm import SVC\n",
    "from sklearn.model_selection import train_test_split\n",
    "from sklearn.metrics.pairwise import cosine_similarity\n",
    "from sklearn.neighbors import KNeighborsClassifier\n",
    "import spacy\n",
    "import hashlib\n",
    "\n",
    "from tqdm import tqdm\n",
    "from collections import Counter\n",
    "from spacy.matcher import Matcher\n",
    "from sklearn.metrics import accuracy_score\n",
    "from nltk.tokenize import WordPunctTokenizer\n",
    "from sklearn.preprocessing import StandardScaler\n",
    "from sklearn.ensemble import RandomForestClassifier\n",
    "from sklearn.pipeline import Pipeline, FeatureUnion\n",
    "from sklearn.model_selection import train_test_split\n",
    "from sklearn.base import BaseEstimator, TransformerMixin\n"
   ]
  },
  {
   "cell_type": "code",
   "execution_count": 2,
   "id": "3c922bc3",
   "metadata": {},
   "outputs": [],
   "source": [
    "dummy = pd.read_csv('data/book_review_labelled_data.csv')[0:3]"
   ]
  },
  {
   "cell_type": "code",
   "execution_count": 3,
   "id": "a617e0bc",
   "metadata": {},
   "outputs": [],
   "source": [
    "text_docs = dummy.reviewText\n",
    "text_docs[0]\n",
    "tk = WordPunctTokenizer() \n",
    "def tkze(tk,text_docs): \n",
    "    return [\" \".join(tk.tokenize(doc)) for doc in text_docs]\n",
    "\n",
    "docs = tkze(tk,text_docs)"
   ]
  },
  {
   "cell_type": "code",
   "execution_count": 4,
   "id": "06a57698",
   "metadata": {},
   "outputs": [
    {
     "data": {
      "text/plain": [
       "[363, 288, 28]"
      ]
     },
     "execution_count": 4,
     "metadata": {},
     "output_type": "execute_result"
    }
   ],
   "source": [
    "# number of words \n",
    "def get_nb_words(docs): \n",
    "    return ([len(doc.split()) for doc in docs])\n",
    "\n",
    "get_nb_words(docs)"
   ]
  },
  {
   "cell_type": "code",
   "execution_count": 30,
   "id": "cd64e445",
   "metadata": {},
   "outputs": [
    {
     "data": {
      "text/plain": [
       "[4.223140495867769, 4.399305555555555, 3.2857142857142856]"
      ]
     },
     "execution_count": 30,
     "metadata": {},
     "output_type": "execute_result"
    }
   ],
   "source": [
    "# average word size \n",
    "def get_av_word_size(docs):\n",
    "    av_words_size_per_doc = [] \n",
    "    for doc in docs: \n",
    "        words_size = [len(word) for word in doc.split()]\n",
    "        av_size = np.mean(np.array(words_size))\n",
    "        av_words_size_per_doc.append(av_size)\n",
    "    return av_words_size_per_doc\n",
    "get_av_word_size(docs)  "
   ]
  },
  {
   "cell_type": "code",
   "execution_count": 39,
   "id": "cfa50802",
   "metadata": {},
   "outputs": [
    {
     "data": {
      "text/plain": [
       "([60, 45, 24], [0.1652892561983471, 0.15625, 0.8571428571428571])"
      ]
     },
     "execution_count": 39,
     "metadata": {},
     "output_type": "execute_result"
    }
   ],
   "source": [
    "# number of unique words (proxy for how rich is the reviewer vocabulary)\n",
    "# not really sure if this feature will be useful (maybe couple with PoS) \n",
    "def get_nb_unique_words(docs):\n",
    "    unique_words = [len(set(word for word in doc)) for doc in docs] \n",
    "    normalized = (np.array(unique_words)/np.array(get_nb_words(docs))).tolist()\n",
    "    return unique_words, normalized\n",
    "get_nb_unique_words(docs)\n"
   ]
  },
  {
   "cell_type": "code",
   "execution_count": 31,
   "id": "24f22e40",
   "metadata": {},
   "outputs": [
    {
     "name": "stderr",
     "output_type": "stream",
     "text": [
      "100%|██████████████████████████████████████████████████████████████████████████████████| 3/3 [00:00<00:00, 27.25it/s]\n"
     ]
    }
   ],
   "source": [
    "# important for spacy related functions\n",
    "nlp = spacy.load('en_core_web_sm')\n",
    "nlp_docs = list(tqdm(nlp.pipe(docs), total=len(docs)))"
   ]
  },
  {
   "cell_type": "code",
   "execution_count": 35,
   "id": "9b9accda",
   "metadata": {},
   "outputs": [
    {
     "data": {
      "text/plain": [
       "[('Churchill', 4),\n",
       " ('Gladstone', 1),\n",
       " ('Jenkins', 1),\n",
       " ('Erlendur', 1),\n",
       " ('Sveinsson', 1),\n",
       " ('Skarphedinn', 1),\n",
       " ('Sigurdur', 1),\n",
       " ('Oli', 1),\n",
       " ('Eva', 1),\n",
       " ('Lind', 1)]"
      ]
     },
     "execution_count": 35,
     "metadata": {},
     "output_type": "execute_result"
    }
   ],
   "source": [
    "# getting NERs (proxy for attention to detail by reviewers that describe book parts, e.g. naming book charters)\n",
    "def get_most_common_persons(nlp_docs, n_most_common=10): \n",
    "    matcher = Matcher(nlp.vocab)\n",
    "    pattern = [[{'ENT_TYPE':'PERSON'}]]\n",
    "    matcher.add('ppl', pattern)\n",
    "\n",
    "    persons = []\n",
    "    for doc in nlp_docs: \n",
    "        matches = matcher(doc)\n",
    "        for match_id, start, end in matches: \n",
    "            persons.append(str(doc[start:end]))\n",
    "\n",
    "    most_common_ents = [person for person in Counter(persons).most_common()[:n_most_common]]\n",
    "    return most_common_ents\n",
    "\n",
    "get_most_common_persons(nlp_docs)    "
   ]
  },
  {
   "cell_type": "code",
   "execution_count": 37,
   "id": "9d806117",
   "metadata": {},
   "outputs": [
    {
     "data": {
      "text/plain": [
       "[138, 109, 11]"
      ]
     },
     "execution_count": 37,
     "metadata": {},
     "output_type": "execute_result"
    }
   ],
   "source": [
    "# number of predifined parts of speech \n",
    "def get_nb_PoS(nlp_docs): # docs tokenized string  \n",
    "    PoS_list = ['ADJ','NOUN','VERB'] \n",
    "    nb_PoS = [] \n",
    "    for doc in nlp_docs: \n",
    "        total_PoS = [token.pos_ for token in doc if token.pos_ in PoS_list]  \n",
    "        nb_in_doc = sum([Counter(total_PoS)[x] for x in PoS_list])\n",
    "        nb_PoS.append(nb_in_doc)\n",
    "    return nb_PoS\n",
    "\n",
    "get_nb_PoS(nlp_docs)"
   ]
  },
  {
   "cell_type": "code",
   "execution_count": 85,
   "id": "d8727b0a",
   "metadata": {
    "scrolled": true
   },
   "outputs": [
    {
     "data": {
      "text/plain": [
       "([1.0, 1.0, 1.0],\n",
       " [['history',\n",
       "   'professor',\n",
       "   'author',\n",
       "   'acclaimed',\n",
       "   'bio',\n",
       "   'fine',\n",
       "   'biography',\n",
       "   'greatest',\n",
       "   '20th',\n",
       "   'century',\n",
       "   'figure',\n",
       "   'own',\n",
       "   'experiences',\n",
       "   'political',\n",
       "   'fortunes',\n",
       "   'maneuverings',\n",
       "   'American',\n",
       "   'reader',\n",
       "   'slow',\n",
       "   'odd',\n",
       "   'political',\n",
       "   'system',\n",
       "   'politicians',\n",
       "   'district',\n",
       "   'traditional',\n",
       "   'public',\n",
       "   'political',\n",
       "   'bio',\n",
       "   'psychoanalysis',\n",
       "   'much',\n",
       "   'personal',\n",
       "   'life',\n",
       "   'moves',\n",
       "   'good',\n",
       "   'clip',\n",
       "   'pages',\n",
       "   'Jenkins',\n",
       "   'living',\n",
       "   'writer',\n",
       "   'contracts',\n",
       "   'schedules',\n",
       "   'royalties',\n",
       "   'politics',\n",
       "   'avocation',\n",
       "   'author',\n",
       "   'fond',\n",
       "   'unusual',\n",
       "   'words',\n",
       "   'quot',\n",
       "   'rumbustious',\n",
       "   'other',\n",
       "   'hand',\n",
       "   'wit',\n",
       "   'dry',\n",
       "   'evidence',\n",
       "   'hardcover',\n",
       "   'edition',\n",
       "   'clean',\n",
       "   'halfway',\n",
       "   'point',\n",
       "   'quot',\n",
       "   'quot',\n",
       "   'quot',\n",
       "   'quot',\n",
       "   'quot',\n",
       "   'opposition',\n",
       "   'similar',\n",
       "   'infelicities',\n",
       "   'nice',\n",
       "   'balance',\n",
       "   'healthy',\n",
       "   'respect',\n",
       "   'subject',\n",
       "   'clear',\n",
       "   'eye',\n",
       "   'weaknesses',\n",
       "   'changes',\n",
       "   'direction',\n",
       "   'occasional',\n",
       "   'seizures',\n",
       "   'dishonesty',\n",
       "   'more',\n",
       "   'b',\n",
       "   'photos'],\n",
       "  ['best',\n",
       "   'multi',\n",
       "   'layered',\n",
       "   'case',\n",
       "   'skeleton',\n",
       "   'skeleton',\n",
       "   'slopes',\n",
       "   'hill',\n",
       "   'mystery',\n",
       "   'person',\n",
       "   'professional',\n",
       "   'opinion',\n",
       "   'age',\n",
       "   'skeleton',\n",
       "   'name',\n",
       "   'archaeologist',\n",
       "   'work',\n",
       "   'history',\n",
       "   'residents',\n",
       "   'area',\n",
       "   'past',\n",
       "   'present',\n",
       "   'mystery',\n",
       "   'skeleton',\n",
       "   'beginning',\n",
       "   'tale',\n",
       "   'sorrow',\n",
       "   'tale',\n",
       "   'true',\n",
       "   'story',\n",
       "   'teller',\n",
       "   'ink',\n",
       "   'tale',\n",
       "   'secrets',\n",
       "   'reasons',\n",
       "   'sorrow',\n",
       "   'same',\n",
       "   'time',\n",
       "   'unsolved',\n",
       "   'mystery',\n",
       "   'girl',\n",
       "   'girl',\n",
       "   'sea',\n",
       "   'reasoning',\n",
       "   'action',\n",
       "   'sister',\n",
       "   'willing',\n",
       "   'participant',\n",
       "   'investigation',\n",
       "   'worst',\n",
       "   'trials',\n",
       "   'life',\n",
       "   'daughter',\n",
       "   'good',\n",
       "   'result',\n",
       "   'latest',\n",
       "   'travesty',\n",
       "   'novel',\n",
       "   'dear',\n",
       "   'reader',\n",
       "   'skill',\n",
       "   'writer',\n",
       "   'contents',\n",
       "   'chapter',\n",
       "   'coveted'],\n",
       "  ['didn', 'gift', 'family', 'small', 'children', 'hopes', 'good', 'use']])"
      ]
     },
     "execution_count": 85,
     "metadata": {},
     "output_type": "execute_result"
    }
   ],
   "source": [
    "def get_nb_unique_PoS(nlp_docs): # docs tokenized string  \n",
    "    PoS_list = ['ADJ','NOUN'] \n",
    "    nb_unique_PoS = [] \n",
    "    nb_PoS = []\n",
    "    word4PoS = [] \n",
    "    for doc in nlp_docs: \n",
    "        total_PoS = [token.pos_ for token in doc]\n",
    "        mask = np.array([True if PoS in PoS_list else False for PoS in total_PoS])\n",
    "        # print(mask[:10])\n",
    "        words = np.array([token.text for token in doc])\n",
    "        words_under_selected_PoS = words[mask].tolist()\n",
    "        word4PoS.append(words_under_selected_PoS)\n",
    "        # print(words_under_selected_PoS)\n",
    "        unique_words = get_nb_unique_words(words_under_selected_PoS)[0]\n",
    "        nb_unique_PoS.append(len(unique_words))\n",
    "        nb_PoS.append(len(words_under_selected_PoS))\n",
    "        \n",
    "    ratio = np.array(nb_unique_PoS)/ np.array(nb_PoS)\n",
    "    return ratio.tolist(), word4PoS\n",
    "    \n",
    "get_nb_unique_PoS(nlp_docs)"
   ]
  },
  {
   "cell_type": "code",
   "execution_count": null,
   "id": "833ec754",
   "metadata": {},
   "outputs": [],
   "source": [
    "def get_nb_unique_PoS(docs):\n",
    "    unique_words = [len(set(word for word in doc)) for doc in docs] \n",
    "    normalized = (np.array(unique_words)/np.array(get_nb_words(docs))).tolist()\n",
    "    return unique_words, normalized"
   ]
  }
 ],
 "metadata": {
  "kernelspec": {
   "display_name": "Python 3",
   "language": "python",
   "name": "python3"
  },
  "language_info": {
   "codemirror_mode": {
    "name": "ipython",
    "version": 3
   },
   "file_extension": ".py",
   "mimetype": "text/x-python",
   "name": "python",
   "nbconvert_exporter": "python",
   "pygments_lexer": "ipython3",
   "version": "3.7.10"
  }
 },
 "nbformat": 4,
 "nbformat_minor": 5
}
